{
 "cells": [
  {
   "cell_type": "code",
   "execution_count": 1,
   "metadata": {
    "collapsed": false,
    "jupyter": {
     "outputs_hidden": false
    }
   },
   "outputs": [
    {
     "name": "stderr",
     "output_type": "stream",
     "text": [
      "Using TensorFlow backend.\n",
      "/Users/lianxinyu/opt/anaconda3/lib/python3.7/site-packages/tensorflow/python/framework/dtypes.py:516: FutureWarning: Passing (type, 1) or '1type' as a synonym of type is deprecated; in a future version of numpy, it will be understood as (type, (1,)) / '(1,)type'.\n",
      "  _np_qint8 = np.dtype([(\"qint8\", np.int8, 1)])\n",
      "/Users/lianxinyu/opt/anaconda3/lib/python3.7/site-packages/tensorflow/python/framework/dtypes.py:517: FutureWarning: Passing (type, 1) or '1type' as a synonym of type is deprecated; in a future version of numpy, it will be understood as (type, (1,)) / '(1,)type'.\n",
      "  _np_quint8 = np.dtype([(\"quint8\", np.uint8, 1)])\n",
      "/Users/lianxinyu/opt/anaconda3/lib/python3.7/site-packages/tensorflow/python/framework/dtypes.py:518: FutureWarning: Passing (type, 1) or '1type' as a synonym of type is deprecated; in a future version of numpy, it will be understood as (type, (1,)) / '(1,)type'.\n",
      "  _np_qint16 = np.dtype([(\"qint16\", np.int16, 1)])\n",
      "/Users/lianxinyu/opt/anaconda3/lib/python3.7/site-packages/tensorflow/python/framework/dtypes.py:519: FutureWarning: Passing (type, 1) or '1type' as a synonym of type is deprecated; in a future version of numpy, it will be understood as (type, (1,)) / '(1,)type'.\n",
      "  _np_quint16 = np.dtype([(\"quint16\", np.uint16, 1)])\n",
      "/Users/lianxinyu/opt/anaconda3/lib/python3.7/site-packages/tensorflow/python/framework/dtypes.py:520: FutureWarning: Passing (type, 1) or '1type' as a synonym of type is deprecated; in a future version of numpy, it will be understood as (type, (1,)) / '(1,)type'.\n",
      "  _np_qint32 = np.dtype([(\"qint32\", np.int32, 1)])\n",
      "/Users/lianxinyu/opt/anaconda3/lib/python3.7/site-packages/tensorflow/python/framework/dtypes.py:525: FutureWarning: Passing (type, 1) or '1type' as a synonym of type is deprecated; in a future version of numpy, it will be understood as (type, (1,)) / '(1,)type'.\n",
      "  np_resource = np.dtype([(\"resource\", np.ubyte, 1)])\n",
      "/Users/lianxinyu/opt/anaconda3/lib/python3.7/site-packages/tensorboard/compat/tensorflow_stub/dtypes.py:541: FutureWarning: Passing (type, 1) or '1type' as a synonym of type is deprecated; in a future version of numpy, it will be understood as (type, (1,)) / '(1,)type'.\n",
      "  _np_qint8 = np.dtype([(\"qint8\", np.int8, 1)])\n",
      "/Users/lianxinyu/opt/anaconda3/lib/python3.7/site-packages/tensorboard/compat/tensorflow_stub/dtypes.py:542: FutureWarning: Passing (type, 1) or '1type' as a synonym of type is deprecated; in a future version of numpy, it will be understood as (type, (1,)) / '(1,)type'.\n",
      "  _np_quint8 = np.dtype([(\"quint8\", np.uint8, 1)])\n",
      "/Users/lianxinyu/opt/anaconda3/lib/python3.7/site-packages/tensorboard/compat/tensorflow_stub/dtypes.py:543: FutureWarning: Passing (type, 1) or '1type' as a synonym of type is deprecated; in a future version of numpy, it will be understood as (type, (1,)) / '(1,)type'.\n",
      "  _np_qint16 = np.dtype([(\"qint16\", np.int16, 1)])\n",
      "/Users/lianxinyu/opt/anaconda3/lib/python3.7/site-packages/tensorboard/compat/tensorflow_stub/dtypes.py:544: FutureWarning: Passing (type, 1) or '1type' as a synonym of type is deprecated; in a future version of numpy, it will be understood as (type, (1,)) / '(1,)type'.\n",
      "  _np_quint16 = np.dtype([(\"quint16\", np.uint16, 1)])\n",
      "/Users/lianxinyu/opt/anaconda3/lib/python3.7/site-packages/tensorboard/compat/tensorflow_stub/dtypes.py:545: FutureWarning: Passing (type, 1) or '1type' as a synonym of type is deprecated; in a future version of numpy, it will be understood as (type, (1,)) / '(1,)type'.\n",
      "  _np_qint32 = np.dtype([(\"qint32\", np.int32, 1)])\n",
      "/Users/lianxinyu/opt/anaconda3/lib/python3.7/site-packages/tensorboard/compat/tensorflow_stub/dtypes.py:550: FutureWarning: Passing (type, 1) or '1type' as a synonym of type is deprecated; in a future version of numpy, it will be understood as (type, (1,)) / '(1,)type'.\n",
      "  np_resource = np.dtype([(\"resource\", np.ubyte, 1)])\n"
     ]
    }
   ],
   "source": [
    "import numpy as np\n",
    "\n",
    "from keras.models import Sequential\n",
    "from keras.layers import Dense, Activation,Dropout\n",
    "from keras.optimizers import Adam\n",
    "from keras.utils import to_categorical\n",
    "from keras.callbacks import TensorBoard\n",
    "\n",
    "from sklearn.preprocessing import StandardScaler"
   ]
  },
  {
   "cell_type": "code",
   "execution_count": 2,
   "metadata": {},
   "outputs": [],
   "source": [
    "import pandas as pd\n",
    "from sklearn.model_selection import train_test_split"
   ]
  },
  {
   "cell_type": "code",
   "execution_count": 8,
   "metadata": {
    "collapsed": false,
    "jupyter": {
     "outputs_hidden": false
    }
   },
   "outputs": [
    {
     "data": {
      "text/plain": [
       "(14145, 57)"
      ]
     },
     "execution_count": 8,
     "metadata": {},
     "output_type": "execute_result"
    }
   ],
   "source": [
    "df = pd.read_csv(\"data_perfect_final.csv\", header=0)\n",
    "df.shape"
   ]
  },
  {
   "cell_type": "code",
   "execution_count": 9,
   "metadata": {
    "collapsed": false,
    "jupyter": {
     "outputs_hidden": false
    }
   },
   "outputs": [
    {
     "data": {
      "text/html": [
       "<div>\n",
       "<style scoped>\n",
       "    .dataframe tbody tr th:only-of-type {\n",
       "        vertical-align: middle;\n",
       "    }\n",
       "\n",
       "    .dataframe tbody tr th {\n",
       "        vertical-align: top;\n",
       "    }\n",
       "\n",
       "    .dataframe thead th {\n",
       "        text-align: right;\n",
       "    }\n",
       "</style>\n",
       "<table border=\"1\" class=\"dataframe\">\n",
       "  <thead>\n",
       "    <tr style=\"text-align: right;\">\n",
       "      <th></th>\n",
       "      <th>Unnamed: 0</th>\n",
       "      <th>id</th>\n",
       "      <th>normalized_name</th>\n",
       "      <th>funding_rounds</th>\n",
       "      <th>funding_total_usd</th>\n",
       "      <th>milestones</th>\n",
       "      <th>relationships</th>\n",
       "      <th>PopulationEstimate-2013</th>\n",
       "      <th>PopulationGrowth</th>\n",
       "      <th>private_eq</th>\n",
       "      <th>...</th>\n",
       "      <th>web</th>\n",
       "      <th>mobile</th>\n",
       "      <th>advertising</th>\n",
       "      <th>ecommerce</th>\n",
       "      <th>analytics</th>\n",
       "      <th>games_video</th>\n",
       "      <th>cleantech</th>\n",
       "      <th>other_category</th>\n",
       "      <th>age</th>\n",
       "      <th>funding_velocity</th>\n",
       "    </tr>\n",
       "  </thead>\n",
       "  <tbody>\n",
       "    <tr>\n",
       "      <th>0</th>\n",
       "      <td>0</td>\n",
       "      <td>c:1</td>\n",
       "      <td>wetpaint</td>\n",
       "      <td>3.0</td>\n",
       "      <td>39750000.0</td>\n",
       "      <td>5.0</td>\n",
       "      <td>17.0</td>\n",
       "      <td>654224.0</td>\n",
       "      <td>0.071376</td>\n",
       "      <td>0.0</td>\n",
       "      <td>...</td>\n",
       "      <td>1</td>\n",
       "      <td>0</td>\n",
       "      <td>0</td>\n",
       "      <td>0</td>\n",
       "      <td>0</td>\n",
       "      <td>0</td>\n",
       "      <td>0</td>\n",
       "      <td>0</td>\n",
       "      <td>2997</td>\n",
       "      <td>13263.263263</td>\n",
       "    </tr>\n",
       "    <tr>\n",
       "      <th>1</th>\n",
       "      <td>11</td>\n",
       "      <td>c:10015</td>\n",
       "      <td>fitbit</td>\n",
       "      <td>5.0</td>\n",
       "      <td>68069200.0</td>\n",
       "      <td>0.0</td>\n",
       "      <td>14.0</td>\n",
       "      <td>839841.0</td>\n",
       "      <td>0.042568</td>\n",
       "      <td>0.0</td>\n",
       "      <td>...</td>\n",
       "      <td>0</td>\n",
       "      <td>0</td>\n",
       "      <td>0</td>\n",
       "      <td>0</td>\n",
       "      <td>0</td>\n",
       "      <td>0</td>\n",
       "      <td>0</td>\n",
       "      <td>1</td>\n",
       "      <td>2283</td>\n",
       "      <td>29815.681121</td>\n",
       "    </tr>\n",
       "    <tr>\n",
       "      <th>2</th>\n",
       "      <td>12</td>\n",
       "      <td>c:100155</td>\n",
       "      <td>mtpv</td>\n",
       "      <td>3.0</td>\n",
       "      <td>10125293.0</td>\n",
       "      <td>1.0</td>\n",
       "      <td>6.0</td>\n",
       "      <td>875463.0</td>\n",
       "      <td>0.085613</td>\n",
       "      <td>0.0</td>\n",
       "      <td>...</td>\n",
       "      <td>0</td>\n",
       "      <td>0</td>\n",
       "      <td>0</td>\n",
       "      <td>0</td>\n",
       "      <td>0</td>\n",
       "      <td>0</td>\n",
       "      <td>1</td>\n",
       "      <td>0</td>\n",
       "      <td>4017</td>\n",
       "      <td>2520.610655</td>\n",
       "    </tr>\n",
       "    <tr>\n",
       "      <th>3</th>\n",
       "      <td>15</td>\n",
       "      <td>c:10018</td>\n",
       "      <td>demandbase</td>\n",
       "      <td>3.0</td>\n",
       "      <td>33000000.0</td>\n",
       "      <td>3.0</td>\n",
       "      <td>19.0</td>\n",
       "      <td>839841.0</td>\n",
       "      <td>0.042568</td>\n",
       "      <td>0.0</td>\n",
       "      <td>...</td>\n",
       "      <td>0</td>\n",
       "      <td>0</td>\n",
       "      <td>0</td>\n",
       "      <td>0</td>\n",
       "      <td>1</td>\n",
       "      <td>0</td>\n",
       "      <td>0</td>\n",
       "      <td>0</td>\n",
       "      <td>2921</td>\n",
       "      <td>11297.500856</td>\n",
       "    </tr>\n",
       "    <tr>\n",
       "      <th>4</th>\n",
       "      <td>17</td>\n",
       "      <td>c:100189</td>\n",
       "      <td>locatrix communications</td>\n",
       "      <td>1.0</td>\n",
       "      <td>250000.0</td>\n",
       "      <td>1.0</td>\n",
       "      <td>2.0</td>\n",
       "      <td>4455.0</td>\n",
       "      <td>0.038462</td>\n",
       "      <td>0.0</td>\n",
       "      <td>...</td>\n",
       "      <td>0</td>\n",
       "      <td>1</td>\n",
       "      <td>0</td>\n",
       "      <td>0</td>\n",
       "      <td>0</td>\n",
       "      <td>0</td>\n",
       "      <td>0</td>\n",
       "      <td>0</td>\n",
       "      <td>3713</td>\n",
       "      <td>67.330999</td>\n",
       "    </tr>\n",
       "  </tbody>\n",
       "</table>\n",
       "<p>5 rows × 57 columns</p>\n",
       "</div>"
      ],
      "text/plain": [
       "   Unnamed: 0        id          normalized_name  funding_rounds  \\\n",
       "0           0       c:1                 wetpaint             3.0   \n",
       "1          11   c:10015                   fitbit             5.0   \n",
       "2          12  c:100155                     mtpv             3.0   \n",
       "3          15   c:10018               demandbase             3.0   \n",
       "4          17  c:100189  locatrix communications             1.0   \n",
       "\n",
       "   funding_total_usd  milestones  relationships  PopulationEstimate-2013  \\\n",
       "0         39750000.0         5.0           17.0                 654224.0   \n",
       "1         68069200.0         0.0           14.0                 839841.0   \n",
       "2         10125293.0         1.0            6.0                 875463.0   \n",
       "3         33000000.0         3.0           19.0                 839841.0   \n",
       "4           250000.0         1.0            2.0                   4455.0   \n",
       "\n",
       "   PopulationGrowth   private_eq  ...  web  mobile  advertising  ecommerce  \\\n",
       "0           0.071376         0.0  ...    1       0            0          0   \n",
       "1           0.042568         0.0  ...    0       0            0          0   \n",
       "2           0.085613         0.0  ...    0       0            0          0   \n",
       "3           0.042568         0.0  ...    0       0            0          0   \n",
       "4           0.038462         0.0  ...    0       1            0          0   \n",
       "\n",
       "   analytics  games_video  cleantech  other_category   age  funding_velocity  \n",
       "0          0            0          0               0  2997      13263.263263  \n",
       "1          0            0          0               1  2283      29815.681121  \n",
       "2          0            0          1               0  4017       2520.610655  \n",
       "3          1            0          0               0  2921      11297.500856  \n",
       "4          0            0          0               0  3713         67.330999  \n",
       "\n",
       "[5 rows x 57 columns]"
      ]
     },
     "execution_count": 9,
     "metadata": {},
     "output_type": "execute_result"
    }
   ],
   "source": [
    "df.head()"
   ]
  },
  {
   "cell_type": "code",
   "execution_count": 10,
   "metadata": {
    "collapsed": false,
    "jupyter": {
     "outputs_hidden": false
    }
   },
   "outputs": [],
   "source": [
    "df=df.drop(['Unnamed: 0','id','normalized_name'],axis=1)"
   ]
  },
  {
   "cell_type": "code",
   "execution_count": 11,
   "metadata": {},
   "outputs": [],
   "source": [
    "x_train, x_test, y_train, y_test = train_test_split(df.drop('success',axis=1), \n",
    "                                                    df['success'], test_size=0.30, \n",
    "                                                    random_state=50)"
   ]
  },
  {
   "cell_type": "code",
   "execution_count": 15,
   "metadata": {
    "collapsed": false,
    "jupyter": {
     "outputs_hidden": false
    }
   },
   "outputs": [],
   "source": [
    "model = Sequential()\n",
    "model.add(Dense(64,input_dim=53,activation='relu'))\n",
    "# \n",
    "model.add(Dropout(0.5))\n",
    "model.add(Dense(64,activation='relu'))\n",
    "model.add(Dense(64,activation='relu'))\n",
    "model.add(Dense(64,activation='relu'))\n",
    "model.add(Dropout(0.5))\n",
    "model.add(Dense(1,activation='sigmoid'))"
   ]
  },
  {
   "cell_type": "code",
   "execution_count": 16,
   "metadata": {
    "collapsed": false,
    "jupyter": {
     "outputs_hidden": false
    }
   },
   "outputs": [],
   "source": [
    "model.compile(loss='binary_crossentropy',\n",
    "              optimizer='rmsprop',\n",
    "              metrics=['accuracy'])"
   ]
  },
  {
   "cell_type": "code",
   "execution_count": 17,
   "metadata": {
    "collapsed": false,
    "jupyter": {
     "outputs_hidden": false
    }
   },
   "outputs": [
    {
     "name": "stdout",
     "output_type": "stream",
     "text": [
      "WARNING:tensorflow:From /Users/lianxinyu/opt/anaconda3/lib/python3.7/site-packages/keras/backend/tensorflow_backend.py:422: The name tf.global_variables is deprecated. Please use tf.compat.v1.global_variables instead.\n",
      "\n",
      "Epoch 1/20\n",
      "9901/9901 [==============================] - 2s 181us/step - loss: 0.5252 - accuracy: 0.7722\n",
      "Epoch 2/20\n",
      "9901/9901 [==============================] - 1s 57us/step - loss: 0.5089 - accuracy: 0.7773\n",
      "Epoch 3/20\n",
      "9901/9901 [==============================] - 1s 58us/step - loss: 0.5028 - accuracy: 0.7779\n",
      "Epoch 4/20\n",
      "9901/9901 [==============================] - 1s 59us/step - loss: 0.5018 - accuracy: 0.7778\n",
      "Epoch 5/20\n",
      "9901/9901 [==============================] - 1s 64us/step - loss: 0.4980 - accuracy: 0.7781\n",
      "Epoch 6/20\n",
      "9901/9901 [==============================] - 1s 72us/step - loss: 0.5006 - accuracy: 0.7780\n",
      "Epoch 7/20\n",
      "9901/9901 [==============================] - 1s 86us/step - loss: 0.4965 - accuracy: 0.7779\n",
      "Epoch 8/20\n",
      "9901/9901 [==============================] - 1s 66us/step - loss: 0.4970 - accuracy: 0.7781\n",
      "Epoch 9/20\n",
      "9901/9901 [==============================] - 1s 70us/step - loss: 0.4967 - accuracy: 0.7778\n",
      "Epoch 10/20\n",
      "9901/9901 [==============================] - 1s 71us/step - loss: 0.4982 - accuracy: 0.7779\n",
      "Epoch 11/20\n",
      "9901/9901 [==============================] - 1s 63us/step - loss: 0.4980 - accuracy: 0.7779\n",
      "Epoch 12/20\n",
      "9901/9901 [==============================] - 1s 61us/step - loss: 0.4970 - accuracy: 0.7779\n",
      "Epoch 13/20\n",
      "9901/9901 [==============================] - 1s 74us/step - loss: 0.4965 - accuracy: 0.7771\n",
      "Epoch 14/20\n",
      "9901/9901 [==============================] - 1s 72us/step - loss: 0.4964 - accuracy: 0.7778\n",
      "Epoch 15/20\n",
      "9901/9901 [==============================] - 1s 76us/step - loss: 0.4935 - accuracy: 0.7779\n",
      "Epoch 16/20\n",
      "9901/9901 [==============================] - 1s 70us/step - loss: 0.4926 - accuracy: 0.7779\n",
      "Epoch 17/20\n",
      "9901/9901 [==============================] - 1s 71us/step - loss: 0.4929 - accuracy: 0.7780\n",
      "Epoch 18/20\n",
      "9901/9901 [==============================] - 1s 65us/step - loss: 0.4942 - accuracy: 0.7781\n",
      "Epoch 19/20\n",
      "9901/9901 [==============================] - 1s 69us/step - loss: 0.4922 - accuracy: 0.7782\n",
      "Epoch 20/20\n",
      "9901/9901 [==============================] - 1s 85us/step - loss: 0.4926 - accuracy: 0.7779\n"
     ]
    },
    {
     "data": {
      "text/plain": [
       "<keras.callbacks.callbacks.History at 0x14b907bd0>"
      ]
     },
     "execution_count": 17,
     "metadata": {},
     "output_type": "execute_result"
    }
   ],
   "source": [
    "model.fit(x_train,y_train,epochs=20,batch_size=128)"
   ]
  },
  {
   "cell_type": "code",
   "execution_count": 18,
   "metadata": {},
   "outputs": [],
   "source": [
    "#from sklearn.metrics import confusion_matrix,roc_curve,auc,precision_recall_curve,average_precision_score,classification_report\n",
    "#from sklearn.model_selection import learning_curve\n",
    "import matplotlib.pyplot as plt\n",
    "from sklearn.metrics import confusion_matrix,roc_curve,auc,classification_report"
   ]
  },
  {
   "cell_type": "code",
   "execution_count": 19,
   "metadata": {
    "collapsed": false,
    "jupyter": {
     "outputs_hidden": false
    }
   },
   "outputs": [
    {
     "name": "stdout",
     "output_type": "stream",
     "text": [
      "              precision    recall  f1-score   support\n",
      "\n",
      "           0       0.77      1.00      0.87      3281\n",
      "           1       0.00      0.00      0.00       963\n",
      "\n",
      "    accuracy                           0.77      4244\n",
      "   macro avg       0.39      0.50      0.44      4244\n",
      "weighted avg       0.60      0.77      0.67      4244\n",
      "\n"
     ]
    },
    {
     "name": "stderr",
     "output_type": "stream",
     "text": [
      "/Users/lianxinyu/opt/anaconda3/lib/python3.7/site-packages/sklearn/metrics/_classification.py:1272: UndefinedMetricWarning: Precision and F-score are ill-defined and being set to 0.0 in labels with no predicted samples. Use `zero_division` parameter to control this behavior.\n",
      "  _warn_prf(average, modifier, msg_start, len(result))\n"
     ]
    }
   ],
   "source": [
    "#confusion_matrix,classification_report\n",
    "y_pred = np.where(model.predict(x_test)>0.5,1,0)\n",
    "Cmatrix=confusion_matrix(y_test,y_pred)\n",
    "Creport=classification_report(y_test,y_pred)\n",
    "print(Creport)"
   ]
  },
  {
   "cell_type": "code",
   "execution_count": 16,
   "metadata": {
    "collapsed": false,
    "jupyter": {
     "outputs_hidden": false
    }
   },
   "outputs": [
    {
     "data": {
      "image/png": "[encoded data removed]",
      "text/plain": [
       "<matplotlib.figure.Figure at 0x22f2c137780>"
      ]
     },
     "metadata": {},
     "output_type": "display_data"
    }
   ],
   "source": [
    "import seaborn as sns\n",
    "f, ax= plt.subplots(figsize = (2, 2))\n",
    "ax.set_title('confusion Matrix')\n",
    "#sns.set_context({\"figure.figsize\":(2,2)})\n",
    "sns.heatmap(Cmatrix,annot=True,annot_kws={'size':16,'weight':'bold', 'color':'red'},fmt='d',xticklabels=('N','T'), yticklabels=('N','T'),\\\n",
    "           cmap=\"RdBu_r\",ax=ax)\n",
    "plt.show()"
   ]
  },
  {
   "cell_type": "code",
   "execution_count": 17,
   "metadata": {
    "collapsed": false,
    "jupyter": {
     "outputs_hidden": false
    }
   },
   "outputs": [
    {
     "data": {
      "image/png": "[encoded data removed]",
      "text/plain": [
       "<matplotlib.figure.Figure at 0x22f2e385ef0>"
      ]
     },
     "metadata": {},
     "output_type": "display_data"
    }
   ],
   "source": [
    "#  ROC \n",
    "fpr, tpr, thresholds = roc_curve(y_test,model.predict_proba(x_test), pos_label=1) \n",
    "rauc=auc(fpr, tpr) \n",
    "plt.figure(figsize=(4,4),facecolor='#ffffcc',edgecolor='#ffffcc')\n",
    "plt.title('Receiver Operating Characteristic\\n')\n",
    "plt.plot(fpr,tpr,'b',label='AUC = %0.2f' % rauc)\n",
    "#plt.plot(fpr,tpr,label='AUC = %0.2f' % rauc)\n",
    "plt.plot([0,1],[0,1],'r--')\n",
    "plt.legend(loc='lower right')\n",
    "plt.xlim([0.0,1.0])\n",
    "plt.ylim([0.0,1.0])\n",
    "plt.ylabel('Recall')\n",
    "plt.xlabel('Fall-out')\n",
    "plt.show()"
   ]
  },
  {
   "cell_type": "code",
   "execution_count": null,
   "metadata": {
    "collapsed": true,
    "jupyter": {
     "outputs_hidden": true
    }
   },
   "outputs": [],
   "source": []
  }
 ],
 "metadata": {
  "anaconda-cloud": {},
  "kernelspec": {
   "display_name": "Python 3",
   "language": "python",
   "name": "python3"
  },
  "language_info": {
   "codemirror_mode": {
    "name": "ipython",
    "version": 3
   },
   "file_extension": ".py",
   "mimetype": "text/x-python",
   "name": "python",
   "nbconvert_exporter": "python",
   "pygments_lexer": "ipython3",
   "version": "3.7.4"
  }
 },
 "nbformat": 4,
 "nbformat_minor": 4
}
